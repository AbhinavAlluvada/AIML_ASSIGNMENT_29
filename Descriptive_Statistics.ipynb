{
 "cells": [
  {
   "cell_type": "code",
   "execution_count": 15,
   "id": "3116a691-07f1-4919-97ae-eaefa9d89e31",
   "metadata": {},
   "outputs": [
    {
     "name": "stdout",
     "output_type": "stream",
     "text": [
      "       Univ   SAT  Top10  Accept  SFRatio  Expenses  GradRate\n",
      "0     Brown  1310     89      22       13     22704        94\n",
      "1   CalTech  1415    100      25        6     63575        81\n",
      "2       CMU  1260     62      59        9     25026        72\n",
      "3  Columbia  1310     76      24       12     31510        88\n",
      "4   Cornell  1280     83      33       13     21864        90\n",
      "0    1310\n",
      "1    1415\n",
      "2    1260\n",
      "3    1310\n",
      "4    1280\n",
      "Name: SAT, dtype: int64\n",
      "Mean of SAT Scores : 1266.44\n",
      "Median of SAT Scores : 1285.0\n",
      "Variance of SAT Scores : 11272.166400000002\n",
      "Range of SAT Scores : 410\n",
      "Standard Deviation of SAT Scores : 106.17045916826395\n"
     ]
    }
   ],
   "source": [
    "import pandas as pd\n",
    "import numpy as np\n",
    "df1 = pd.read_csv(\"C:/Users/abhin/Downloads/universities.csv\")\n",
    "print(df1.head())\n",
    "data = df1['SAT']\n",
    "print(data.head())\n",
    "#Mean\n",
    "mean = np.mean(data)\n",
    "median = np.median(data)\n",
    "var = np.var(data)\n",
    "std = np.std(data)\n",
    "rnge = np.max(data) - np.min(data)\n",
    "print(f\"Mean of SAT Scores : {mean}\")\n",
    "print(f\"Median of SAT Scores : {median}\")\n",
    "print(f\"Variance of SAT Scores : {var}\")\n",
    "print(f\"Range of SAT Scores : {rnge}\")\n",
    "print(f\"Standard Deviation of SAT Scores : {std}\")"
   ]
  }
 ],
 "metadata": {
  "kernelspec": {
   "display_name": "Python [conda env:base] *",
   "language": "python",
   "name": "conda-base-py"
  },
  "language_info": {
   "codemirror_mode": {
    "name": "ipython",
    "version": 3
   },
   "file_extension": ".py",
   "mimetype": "text/x-python",
   "name": "python",
   "nbconvert_exporter": "python",
   "pygments_lexer": "ipython3",
   "version": "3.12.7"
  }
 },
 "nbformat": 4,
 "nbformat_minor": 5
}
