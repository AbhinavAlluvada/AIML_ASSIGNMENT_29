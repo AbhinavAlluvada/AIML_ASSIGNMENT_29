{
 "cells": [
  {
   "cell_type": "code",
   "execution_count": 2,
   "id": "800d355d-7531-4c95-9c5d-37cdb8a589c0",
   "metadata": {},
   "outputs": [
    {
     "name": "stdin",
     "output_type": "stream",
     "text": [
      "Enter a number:  5\n"
     ]
    },
    {
     "name": "stdout",
     "output_type": "stream",
     "text": [
      "The sum of numbers from range 1 to 5 is: 4\n"
     ]
    }
   ],
   "source": [
    "#Write a python program to print sum of all even numbers between 1 and given number\n",
    "num = int(input(\"Enter a number: \"))\n",
    "count = 0\n",
    "for i in range(num):\n",
    "    if i&1==1:\n",
    "        count = count + i\n",
    "print(f\"The sum of numbers from range 1 to {num} is: {sum}\")\n",
    "        "
   ]
  },
  {
   "cell_type": "code",
   "execution_count": null,
   "id": "ccfe4990-1f3b-4ad1-af50-bdc770433683",
   "metadata": {},
   "outputs": [],
   "source": []
  }
 ],
 "metadata": {
  "kernelspec": {
   "display_name": "Python 3 (ipykernel)",
   "language": "python",
   "name": "python3"
  },
  "language_info": {
   "codemirror_mode": {
    "name": "ipython",
    "version": 3
   },
   "file_extension": ".py",
   "mimetype": "text/x-python",
   "name": "python",
   "nbconvert_exporter": "python",
   "pygments_lexer": "ipython3",
   "version": "3.12.7"
  }
 },
 "nbformat": 4,
 "nbformat_minor": 5
}
