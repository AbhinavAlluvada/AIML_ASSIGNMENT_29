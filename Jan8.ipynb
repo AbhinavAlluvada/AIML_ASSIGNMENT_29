{
 "cells": [
  {
   "cell_type": "code",
   "execution_count": 4,
   "id": "2f4fca5b-b85b-4161-a741-a5090c827c98",
   "metadata": {},
   "outputs": [
    {
     "name": "stdin",
     "output_type": "stream",
     "text": [
      "Enter a positive integer:  10\n"
     ]
    },
    {
     "name": "stdout",
     "output_type": "stream",
     "text": [
      "1\n",
      "2\n",
      "3\n",
      "4\n",
      "5\n",
      "6\n",
      "7\n",
      "8\n",
      "9\n",
      "10\n"
     ]
    },
    {
     "data": {
      "text/plain": [
       "55"
      ]
     },
     "execution_count": 4,
     "metadata": {},
     "output_type": "execute_result"
    }
   ],
   "source": [
    "def sum(num):\n",
    "    for i in range(num):\n",
    "        print(i+1)\n",
    "    sum = 0\n",
    "    for i in range(num):\n",
    "        sum = sum + i +1\n",
    "    return sum\n",
    "    \n",
    "val = int(input(\"Enter a positive integer: \"))\n",
    "sum(val)"
   ]
  },
  {
   "cell_type": "code",
   "execution_count": 6,
   "id": "a0a09e7f-9aa3-4a5c-9ecc-c11c4ae86127",
   "metadata": {},
   "outputs": [
    {
     "name": "stdin",
     "output_type": "stream",
     "text": [
      "Enter a number:  15\n"
     ]
    },
    {
     "data": {
      "text/plain": [
       "225"
      ]
     },
     "execution_count": 6,
     "metadata": {},
     "output_type": "execute_result"
    }
   ],
   "source": [
    "def calculate_square(num):\n",
    "    return num**2\n",
    "val = int(input(\"Enter a number: \"))\n",
    "calculate_square(val)"
   ]
  },
  {
   "cell_type": "code",
   "execution_count": null,
   "id": "c7f11fec-0f75-442e-85da-689f427f0264",
   "metadata": {},
   "outputs": [],
   "source": []
  }
 ],
 "metadata": {
  "kernelspec": {
   "display_name": "Python 3 (ipykernel)",
   "language": "python",
   "name": "python3"
  },
  "language_info": {
   "codemirror_mode": {
    "name": "ipython",
    "version": 3
   },
   "file_extension": ".py",
   "mimetype": "text/x-python",
   "name": "python",
   "nbconvert_exporter": "python",
   "pygments_lexer": "ipython3",
   "version": "3.12.7"
  }
 },
 "nbformat": 4,
 "nbformat_minor": 5
}
