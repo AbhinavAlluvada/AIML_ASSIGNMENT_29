{
 "cells": [
  {
   "cell_type": "code",
   "execution_count": 1,
   "id": "1f526997-8b74-4d7f-838d-f930ee94fd1f",
   "metadata": {},
   "outputs": [
    {
     "name": "stdout",
     "output_type": "stream",
     "text": [
      "[1 2 4 5]\n"
     ]
    }
   ],
   "source": [
    "import numpy as np\n",
    "lst = [1,2,4,5]\n",
    "arr = np.array(lst)\n",
    "print(arr)"
   ]
  },
  {
   "cell_type": "code",
   "execution_count": 3,
   "id": "865b0fe4-799e-4c8a-b586-c08887b3cce0",
   "metadata": {},
   "outputs": [
    {
     "name": "stdout",
     "output_type": "stream",
     "text": [
      "1 2 4 5 "
     ]
    }
   ],
   "source": [
    "for i in arr:\n",
    "    print(i, end = \" \")"
   ]
  },
  {
   "cell_type": "code",
   "execution_count": 9,
   "id": "fa9ce2d5-2cef-4681-9ff5-8570fbc3e720",
   "metadata": {},
   "outputs": [
    {
     "name": "stdout",
     "output_type": "stream",
     "text": [
      "<class 'numpy.ndarray'>\n",
      "A 12 23 34 B <U11\n"
     ]
    }
   ],
   "source": [
    "arr2 = np.array(['A',12,23,34,'B'])\n",
    "print(type(arr2))\n",
    "for i in arr2:\n",
    "    print(i, end = \" \")\n",
    "print(arr2.dtype)"
   ]
  },
  {
   "cell_type": "code",
   "execution_count": 20,
   "id": "533d0dc3-bd33-4818-a550-484515a3cad2",
   "metadata": {},
   "outputs": [
    {
     "name": "stdout",
     "output_type": "stream",
     "text": [
      "[[[1, 2.5], [3, 4]], [[4, 5], [5, 6]]]\n",
      "3\n",
      "[[1.  2.5]\n",
      " [3.  4. ]]\n",
      "[[4. 5.]\n",
      " [5. 6.]]\n",
      "(2, 2, 2)\n"
     ]
    }
   ],
   "source": [
    "lst2 = [[[1,2.5],[3,4]],[[4,5],[5,6]]]\n",
    "print(lst2)\n",
    "arr3 = np.array(lst2)\n",
    "print(arr3.ndim)\n",
    "for i in arr3:\n",
    "    print(i)\n",
    "print(arr3.shape)"
   ]
  },
  {
   "cell_type": "code",
   "execution_count": 22,
   "id": "7f53dbae-4070-4491-8261-10d152f43e4c",
   "metadata": {},
   "outputs": [
    {
     "name": "stdout",
     "output_type": "stream",
     "text": [
      "[[0. 0.]\n",
      " [0. 0.]\n",
      " [0. 0.]]\n",
      "[[1. 1. 1. 1.]\n",
      " [1. 1. 1. 1.]\n",
      " [1. 1. 1. 1.]\n",
      " [1. 1. 1. 1.]\n",
      " [1. 1. 1. 1.]\n",
      " [1. 1. 1. 1.]]\n"
     ]
    }
   ],
   "source": [
    "arr4 = np.zeros([3,2])\n",
    "print(arr4)\n",
    "arr5 = np.ones([6,4])\n",
    "print(arr5)"
   ]
  },
  {
   "cell_type": "code",
   "execution_count": 26,
   "id": "25b42065-2080-4e91-b494-997cfff716c1",
   "metadata": {},
   "outputs": [
    {
     "name": "stdout",
     "output_type": "stream",
     "text": [
      "[0 2 4 6 8]\n"
     ]
    }
   ],
   "source": [
    "arr6 = np.arange(0,10,2,dtype = int)\n",
    "print(arr6)"
   ]
  },
  {
   "cell_type": "code",
   "execution_count": 32,
   "id": "8e47c00f-ff12-4894-b63c-1945208aaeb4",
   "metadata": {},
   "outputs": [
    {
     "name": "stdout",
     "output_type": "stream",
     "text": [
      "10\n",
      "[ 0  2  4  6  8 11 13 15 17 20]\n"
     ]
    }
   ],
   "source": [
    "arr7 = np.linspace(0,20,num = 10, endpoint = True, dtype = int)\n",
    "print(arr7.size)\n",
    "print(arr7)"
   ]
  },
  {
   "cell_type": "code",
   "execution_count": 33,
   "id": "8228ff1e-f415-46ce-b9a4-49543c90f79e",
   "metadata": {},
   "outputs": [
    {
     "name": "stdout",
     "output_type": "stream",
     "text": [
      "[1 2 4 5]\n",
      "[[1 2]\n",
      " [4 5]]\n"
     ]
    }
   ],
   "source": [
    "arr = np.array(lst)\n",
    "print(arr)\n",
    "\n",
    "arr2 = arr.reshape(2,2)\n",
    "print(arr2)"
   ]
  },
  {
   "cell_type": "code",
   "execution_count": 47,
   "id": "6a68c9c1-04db-40c0-b3c6-b359ae84d86e",
   "metadata": {},
   "outputs": [
    {
     "name": "stdout",
     "output_type": "stream",
     "text": [
      "1\n",
      "2\n",
      "3\n",
      "\n",
      "\n",
      "4\n",
      "5\n",
      "6\n",
      "\n",
      "\n",
      "7\n",
      "8\n",
      "9\n",
      "\n",
      "\n",
      "1\n",
      "2\n",
      "4\n",
      "\n",
      "\n",
      "3\n",
      "4\n",
      "6\n",
      "\n",
      "\n",
      "5\n",
      "6\n",
      "8\n",
      "\n",
      "\n"
     ]
    }
   ],
   "source": [
    "#3D list\n",
    "lst3 = [[[1,2,3],[4,5,6],[7,8,9]],[[1,2,4],[3,4,6],[5,6,8]]]\n",
    "for i in lst3:\n",
    "    for j in i:\n",
    "        for k in j:\n",
    "            print(k)\n",
    "        print('\\n')"
   ]
  },
  {
   "cell_type": "code",
   "execution_count": 53,
   "id": "8e96ebde-895d-4ead-ac24-07060997862e",
   "metadata": {},
   "outputs": [
    {
     "name": "stdout",
     "output_type": "stream",
     "text": [
      "[[[1 2 3]\n",
      "  [4 5 6]\n",
      "  [7 8 9]]\n",
      "\n",
      " [[1 2 4]\n",
      "  [3 4 6]\n",
      "  [5 6 8]]]\n",
      "------\n",
      "[[[1 2]\n",
      "  [3 4]\n",
      "  [5 6]]\n",
      "\n",
      " [[7 8]\n",
      "  [9 1]\n",
      "  [2 4]]\n",
      "\n",
      " [[3 4]\n",
      "  [6 5]\n",
      "  [6 8]]]\n"
     ]
    }
   ],
   "source": [
    "arr = np.array(lst3)\n",
    "print(arr)\n",
    "print('------')\n",
    "arr2 = arr.reshape(-1,3,2)\n",
    "print(arr2)"
   ]
  },
  {
   "cell_type": "code",
   "execution_count": 61,
   "id": "b1d084d1-c824-480b-88c1-8baaebdd18ad",
   "metadata": {},
   "outputs": [
    {
     "name": "stdout",
     "output_type": "stream",
     "text": [
      "[1.23, 34.56, 42.39]\n",
      "[1.109, 5.879, 6.511]\n"
     ]
    }
   ],
   "source": [
    "arr = np.array([1.23,34.56,42.39])\n",
    "np.around(arr,2)\n",
    "print([i for i in arr])\n",
    "arr = np.sqrt(arr)\n",
    "arr  = np.around(arr,3)\n",
    "print([i for i in arr])"
   ]
  },
  {
   "cell_type": "code",
   "execution_count": 66,
   "id": "de71fb4d-b8aa-4ed3-a8ab-4b288a2685ee",
   "metadata": {},
   "outputs": [
    {
     "name": "stdout",
     "output_type": "stream",
     "text": [
      "[[[0.86235945 0.66424003 0.41477947]\n",
      "  [0.30002335 0.96045379 0.24220795]]]\n",
      "3.444064026076634\n"
     ]
    }
   ],
   "source": [
    "arr = np.random.rand(1,2,3)\n",
    "print(arr)\n",
    "val = np.sum(arr,axis = None)\n",
    "print(val)"
   ]
  },
  {
   "cell_type": "code",
   "execution_count": 72,
   "id": "6f9aa61d-dc8e-4cd9-9c83-7a7bc8bde4f2",
   "metadata": {},
   "outputs": [
    {
     "name": "stdout",
     "output_type": "stream",
     "text": [
      "[nan, nan, 2.0]\n",
      "['nan' 'nan' '2.0']\n"
     ]
    }
   ],
   "source": [
    "nan =  np.nan\n",
    "arr = np.array([nan,nan,2])\n",
    "print([i for i in arr])\n",
    "a1 = arr.astype(str)\n",
    "print(a1)"
   ]
  },
  {
   "cell_type": "code",
   "execution_count": 76,
   "id": "1b91846c-8a78-4b28-8f53-46e8d5b6890a",
   "metadata": {},
   "outputs": [
    {
     "name": "stdout",
     "output_type": "stream",
     "text": [
      "[[1 2 3]\n",
      " [4 5 6]\n",
      " [7 8 9]]\n",
      "[ 6 15 24]\n",
      "[12 15 18]\n"
     ]
    }
   ],
   "source": [
    "arr = np.array([[1,2,3],[4,5,6],[7,8,9]])\n",
    "print(arr)\n",
    "arr1 = np.sum(arr,axis = 1)\n",
    "print(arr1)\n",
    "arr2 = np.sum(arr,axis = 0)\n",
    "print(arr2)"
   ]
  },
  {
   "cell_type": "code",
   "execution_count": 77,
   "id": "a8a7127d-3fb1-4833-a3ef-8a0a63ca404a",
   "metadata": {},
   "outputs": [
    {
     "name": "stdout",
     "output_type": "stream",
     "text": [
      "[[ 1.83132828  2.19499147  3.39360235]\n",
      " [ 5.55173856  5.7547392   8.84164804]\n",
      " [ 9.27214884  9.31448694 14.28969373]]\n"
     ]
    }
   ],
   "source": [
    "arr = np.array([[1,2,3],[4,5,6],[7,8,9]])\n",
    "arr2 = np.random.rand(3,3)\n",
    "arr3 = np.dot(arr,arr2)\n",
    "print(arr3)"
   ]
  },
  {
   "cell_type": "code",
   "execution_count": 85,
   "id": "3faeee42-df2d-42f9-b248-8c7960ccc761",
   "metadata": {},
   "outputs": [
    {
     "name": "stdout",
     "output_type": "stream",
     "text": [
      "[[0 2 3]\n",
      " [4 0 6]\n",
      " [7 8 0]] \n",
      "\n",
      " [[1 2 3]\n",
      " [4 5 6]\n",
      " [7 8 9]]\n"
     ]
    }
   ],
   "source": [
    "arr = np.array([[1,2,3],[4,5,6],[7,8,9]])\n",
    "arr2 = arr.copy()\n",
    "np.fill_diagonal(arr2,0)\n",
    "print(arr2,'\\n\\n',arr)"
   ]
  },
  {
   "cell_type": "code",
   "execution_count": 90,
   "id": "befeca6b-86f7-480b-a3e6-4308af031c64",
   "metadata": {},
   "outputs": [
    {
     "name": "stdout",
     "output_type": "stream",
     "text": [
      "[[29 26 15]\n",
      " [62 56 42]\n",
      " [95 86 69]]\n",
      "[[29 26 15]\n",
      " [62 56 42]\n",
      " [95 86 69]]\n",
      "[[29 62 95]\n",
      " [26 56 86]\n",
      " [15 42 69]] \n",
      "\n",
      " [[ 3878  9260 14642]\n",
      " [ 3500  8360 13220]\n",
      " [ 2562  6180  9798]]\n"
     ]
    }
   ],
   "source": [
    "A = np.matmul(arr,arr2)\n",
    "print(A)\n",
    "B = np.dot(arr,arr2)\n",
    "print(B)\n",
    "K = np.dot(A,B)\n",
    "print(A.T,'\\n\\n',K.T)"
   ]
  },
  {
   "cell_type": "code",
   "execution_count": 99,
   "id": "6311528e-e590-45fe-b219-74d74dda0754",
   "metadata": {},
   "outputs": [
    {
     "name": "stdout",
     "output_type": "stream",
     "text": [
      "[[1 2 3]\n",
      " [4 5 6]\n",
      " [7 8 9]]\n",
      "2\n",
      "[[4 5]\n",
      " [7 8]]\n"
     ]
    }
   ],
   "source": [
    "#Accessing the array elements\n",
    "arr = np.array([[1,2,3],[4,5,6],[7,8,9]])\n",
    "print(arr)\n",
    "print(arr[0][1])\n",
    "print(arr[1:3,0:2])"
   ]
  },
  {
   "cell_type": "code",
   "execution_count": null,
   "id": "f0cb4f26-8bc5-45d5-9815-ae771f4c8faf",
   "metadata": {},
   "outputs": [],
   "source": []
  }
 ],
 "metadata": {
  "kernelspec": {
   "display_name": "Python 3 (ipykernel)",
   "language": "python",
   "name": "python3"
  },
  "language_info": {
   "codemirror_mode": {
    "name": "ipython",
    "version": 3
   },
   "file_extension": ".py",
   "mimetype": "text/x-python",
   "name": "python",
   "nbconvert_exporter": "python",
   "pygments_lexer": "ipython3",
   "version": "3.12.7"
  }
 },
 "nbformat": 4,
 "nbformat_minor": 5
}
