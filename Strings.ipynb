{
 "cells": [
  {
   "cell_type": "code",
   "execution_count": 1,
   "id": "fac22d95-ffb2-49d7-a593-df17a5a2e50b",
   "metadata": {},
   "outputs": [
    {
     "name": "stdout",
     "output_type": "stream",
     "text": [
      "<class 'str'>\n",
      "Welcome to my Soul Society! Isn't it Funny... Destroy it using your Spiritual Pressure!\n",
      "M\n",
      "f\n",
      "Magnificent Stellar\n",
      "ralletS tnecifingaM\n",
      "ificen\n",
      "['Magnificent', 'Stellar']\n",
      "Bankai: Tensa Zangetsu\n",
      "I N T E R S T E L L A R\n",
      "Hello World!\n",
      "Hello World!   \n",
      "   Hello World!\n",
      "Hello"
     ]
    }
   ],
   "source": [
    "\"\"\"\n",
    "Strings are immuatble\n",
    "Strings are alpha numerical characters\n",
    "They are iterable\n",
    "Indexing is Allowed\n",
    "\"\"\"\n",
    "str = \"Welcome to my Soul Society!\"\n",
    "str1 = \" Isn't it Funny...\"\n",
    "str3 = \" Destroy it using your Spiritual Pressure!\"\n",
    "print(type(str))\n",
    "print(str+str1+str3)\n",
    "\n",
    "str4 = \"Magnificent Stellar\"\n",
    "#Slicing\n",
    "print(str4[0])\n",
    "print(str4[5])\n",
    "print(str4[:])\n",
    "print(str4[::-1]) #Reverse\n",
    "print(str4[4:10])\n",
    "\n",
    "#Split\n",
    "print(str4.split())\n",
    "\n",
    "#Join\n",
    "words = [\"Bankai:\",\"Tensa\",\"Zangetsu\"]\n",
    "str9 = \" \".join(words)\n",
    "print(str9)\n",
    "bank = \"INTERSTELLAR\"\n",
    "str10 = \" \".join(bank)\n",
    "print(str10)\n",
    "\n",
    "#Strip\n",
    "val = \"   Hello World!   \"\n",
    "print(val.strip())\n",
    "print(val.lstrip())\n",
    "print(val.rstrip())\n",
    "\n",
    "def filter(val):\n",
    "    val = val.strip()\n",
    "    val = val.capitalize()\n",
    "    for i in val:\n",
    "        print(i,end=\"\")\n",
    "filter(\"                hello\")\n"
   ]
  },
  {
   "cell_type": "code",
   "execution_count": 2,
   "id": "bff4da08-6df9-4771-974f-50cecc076ca7",
   "metadata": {},
   "outputs": [
    {
     "name": "stdout",
     "output_type": "stream",
     "text": [
      "ProductID \t [101, 102, 103, 104, 105, 106, 107, 108, 109, 110]\n",
      "ProductName \t ['Laptop', 'Mouse', 'Keyboard', 'Monitor', 'Chair', 'Desk', 'Webcam', 'Headphones', 'Printer', 'Tablet']\n",
      "Category \t ['Electronics', 'Accessories', 'Accessories', 'Electronics', 'Furniture', 'Furniture', 'Electronics', 'Accessories', 'Electronics', 'Electronics']\n",
      "PriceRange \t ['High', 'Low', 'Low', 'Medium', 'Medium', 'Medium', 'Low', 'Low', 'Medium', 'High']\n",
      "StockAvailable \t [15, 100, 75, 20, 10, 8, 50, 60, 25, 12]\n"
     ]
    }
   ],
   "source": [
    "# Example dictionary for product sales analysis\n",
    "sales_data = {\n",
    "    \"ProductID\": [101, 102, 103, 104, 105, 106, 107, 108, 109, 110],\n",
    "    \"ProductName\": [\"Laptop\", \"Mouse\", \"Keyboard\", \"Monitor\", \"Chair\", \"Desk\", \"Webcam\", \"Headphones\", \"Printer\", \"Tablet\"],\n",
    "    \"Category\": [\"Electronics\", \"Accessories\", \"Accessories\", \"Electronics\", \"Furniture\", \"Furniture\", \"Electronics\", \"Accessories\", \"Electronics\", \"Electronics\"],\n",
    "    \"PriceRange\": [\"High\", \"Low\", \"Low\", \"Medium\", \"Medium\", \"Medium\", \"Low\", \"Low\", \"Medium\", \"High\"],\n",
    "    \"StockAvailable\": [15, 100, 75, 20, 10, 8, 50, 60, 25, 12],\n",
    "}\n",
    "for k,v in sales_data.items():\n",
    "    print(k,\"\\t\",v)\n"
   ]
  },
  {
   "cell_type": "code",
   "execution_count": 5,
   "id": "c3b81b85-a8bb-45bb-bdf1-a7feaac076d9",
   "metadata": {},
   "outputs": [
    {
     "name": "stdout",
     "output_type": "stream",
     "text": [
      "Review1 \t {'Word Count': 14, 'Unique Words:': ['was', 'product', 'functionality', 'prompt', 'delivery', 'quality', 'the', 'and', 'versatile', 'is', 'excellent']}\n",
      "Review2 \t {'Word Count': 15, 'Unique Words:': ['to', 'good', 'been', 'better', 'customer', 'packaging', 'service', 'could', 'improve', 'the', 'has', 'but', 'have']}\n",
      "Review3 \t {'Word Count': 18, 'Unique Words:': ['very', 'helpful', 'product', 'the', 'customer', 'as', 'support', 'not', 'i', 'rate', 'fine', 'but', 'works', 'is', 'excellent']}\n"
     ]
    }
   ],
   "source": [
    "reviews = {\n",
    "    \"Review1\": \"The product quality is excellent and delivery was prompt. The product functionality is versatile\",\n",
    "    \"Review2\": \"Good service but the packaging could have been better. The customer service has to improve\",\n",
    "    \"Review3\": \"The product works fine, but the customer support is not very helpful. I rate the product as excellent\",\n",
    "}\n",
    "\n",
    "review = {}\n",
    "for k , r in reviews.items():\n",
    "    words = r.lower().replace('.','').replace(',','').split()\n",
    "    review[k] = {\n",
    "        \"Word Count\": len(words),\n",
    "        \"Unique Words:\" : list(set(words))\n",
    "    }\n",
    "for i in review:\n",
    "    print(i,\"\\t\",review[i])\n"
   ]
  },
  {
   "cell_type": "code",
   "execution_count": null,
   "id": "c019b41d-5516-47aa-9b3e-143d9e22078a",
   "metadata": {},
   "outputs": [],
   "source": []
  }
 ],
 "metadata": {
  "kernelspec": {
   "display_name": "Python 3 (ipykernel)",
   "language": "python",
   "name": "python3"
  },
  "language_info": {
   "codemirror_mode": {
    "name": "ipython",
    "version": 3
   },
   "file_extension": ".py",
   "mimetype": "text/x-python",
   "name": "python",
   "nbconvert_exporter": "python",
   "pygments_lexer": "ipython3",
   "version": "3.12.7"
  }
 },
 "nbformat": 4,
 "nbformat_minor": 5
}
